{
 "cells": [
  {
   "cell_type": "code",
   "execution_count": 1,
   "metadata": {},
   "outputs": [],
   "source": [
    "import tensorflow as tf\n",
    "import operations as op"
   ]
  },
  {
   "cell_type": "code",
   "execution_count": 2,
   "metadata": {},
   "outputs": [],
   "source": [
    "\n",
    "def attention(\n",
    "    Q, K, V, \n",
    "    Q_lengths, K_lengths, \n",
    "    attention_type='dot', \n",
    "    is_mask=True, mask_value=-2**32+1,\n",
    "    drop_prob=None):\n",
    "    '''Add attention layer.\n",
    "    Args:\n",
    "        Q: a tensor with shape [batch, Q_time, Q_dimension]\n",
    "        K: a tensor with shape [batch, time, K_dimension]\n",
    "        V: a tensor with shape [batch, time, V_dimension]\n",
    "\n",
    "        Q_length: a tensor with shape [batch]\n",
    "        K_length: a tensor with shape [batch]\n",
    "\n",
    "    Returns:\n",
    "        a tensor with shape [batch, Q_time, V_dimension]\n",
    "\n",
    "    Raises:\n",
    "        AssertionError: if\n",
    "            Q_dimension not equal to K_dimension when attention type is dot.\n",
    "    '''\n",
    "    assert attention_type in ('dot', 'bilinear')\n",
    "    if attention_type == 'dot':\n",
    "        assert Q.shape[-1] == K.shape[-1]\n",
    "\n",
    "    Q_time = Q.shape[1]\n",
    "    K_time = K.shape[1]\n",
    "\n",
    "    if attention_type == 'dot':\n",
    "        logits = op.dot_sim(Q, K) #[batch, Q_time, time]\n",
    "    if attention_type == 'bilinear':\n",
    "        logits = op.bilinear_sim(Q, K)\n",
    "\n",
    "    if is_mask:\n",
    "        mask = op.mask(Q_lengths, K_lengths, Q_time, K_time) #[batch, Q_time, K_time]\n",
    "        logits = mask * logits + (1 - mask) * mask_value\n",
    "    \n",
    "    attention = tf.nn.softmax(logits)\n",
    "\n",
    "    if drop_prob is not None:\n",
    "        print('use attention drop')\n",
    "        attention = tf.nn.dropout(attention, drop_prob)\n",
    "\n",
    "    return op.weighted_sum(attention, V)\n"
   ]
  },
  {
   "cell_type": "code",
   "execution_count": 13,
   "metadata": {},
   "outputs": [],
   "source": [
    "batch_size = 2\n",
    "turns_len = 5\n",
    "words = 10\n",
    "dim =10\n",
    "\n",
    "input_turns = tf.placeholder(tf.float32, [2,5,10,10])\n",
    "respones  = tf.placeholder(tf.float32, [batch_size, words, dim])\n",
    "respones_len = tf.placeholder(tf.int32,[batch_size])"
   ]
  },
  {
   "cell_type": "code",
   "execution_count": 16,
   "metadata": {},
   "outputs": [
    {
     "name": "stdout",
     "output_type": "stream",
     "text": [
      "Tensor(\"transpose_11:0\", shape=(5, 2, 10, 10), dtype=float32)\n"
     ]
    }
   ],
   "source": [
    "input_turns = tf.transpose(input_turns,perm=[1,0,2,3])\n",
    "# input_turns = tf.transpose(input_turns,perm=[1,0,2,3])\n",
    "print(input_turns)\n",
    "_turn_match = []\n",
    "\n",
    "for _t in tf.split(input_turns,5,0):\n",
    "    _t = tf.squeeze(_t)\n",
    "    _match_result= attention(respones, _t,  _t, respones_len, respones_len)\n",
    "    _turn_match.append(_match_result)"
   ]
  },
  {
   "cell_type": "code",
   "execution_count": 17,
   "metadata": {},
   "outputs": [
    {
     "data": {
      "text/plain": [
       "[<tf.Tensor 'einsum_14/transpose_2:0' shape=(2, 10, 10) dtype=float32>,\n",
       " <tf.Tensor 'einsum_17/transpose_2:0' shape=(2, 10, 10) dtype=float32>,\n",
       " <tf.Tensor 'einsum_20/transpose_2:0' shape=(2, 10, 10) dtype=float32>,\n",
       " <tf.Tensor 'einsum_23/transpose_2:0' shape=(2, 10, 10) dtype=float32>,\n",
       " <tf.Tensor 'einsum_26/transpose_2:0' shape=(2, 10, 10) dtype=float32>]"
      ]
     },
     "execution_count": 17,
     "metadata": {},
     "output_type": "execute_result"
    }
   ],
   "source": [
    "_turn_match"
   ]
  },
  {
   "cell_type": "code",
   "execution_count": null,
   "metadata": {},
   "outputs": [],
   "source": []
  }
 ],
 "metadata": {
  "kernelspec": {
   "display_name": "Python 3",
   "language": "python",
   "name": "python3"
  },
  "language_info": {
   "codemirror_mode": {
    "name": "ipython",
    "version": 3
   },
   "file_extension": ".py",
   "mimetype": "text/x-python",
   "name": "python",
   "nbconvert_exporter": "python",
   "pygments_lexer": "ipython3",
   "version": "3.6.5"
  }
 },
 "nbformat": 4,
 "nbformat_minor": 2
}
